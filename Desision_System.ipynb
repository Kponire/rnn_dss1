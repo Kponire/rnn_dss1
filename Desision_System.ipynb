{
 "cells": [
  {
   "cell_type": "code",
   "execution_count": 77,
   "id": "ee77c8b5",
   "metadata": {},
   "outputs": [],
   "source": [
    "import numpy as np\n",
    "import pandas as pd\n",
    "import matplotlib.pyplot as plt\n",
    "from sklearn.model_selection import train_test_split\n",
    "import warnings\n",
    "warnings.filterwarnings('ignore')\n",
    "%matplotlib inline"
   ]
  },
  {
   "cell_type": "code",
   "execution_count": 78,
   "id": "34258e93",
   "metadata": {},
   "outputs": [
    {
     "data": {
      "text/html": [
       "<div>\n",
       "<style scoped>\n",
       "    .dataframe tbody tr th:only-of-type {\n",
       "        vertical-align: middle;\n",
       "    }\n",
       "\n",
       "    .dataframe tbody tr th {\n",
       "        vertical-align: top;\n",
       "    }\n",
       "\n",
       "    .dataframe thead th {\n",
       "        text-align: right;\n",
       "    }\n",
       "</style>\n",
       "<table border=\"1\" class=\"dataframe\">\n",
       "  <thead>\n",
       "    <tr style=\"text-align: right;\">\n",
       "      <th></th>\n",
       "      <th>Name(both parties)</th>\n",
       "      <th>term(year of case)</th>\n",
       "      <th>first_party</th>\n",
       "      <th>second_party</th>\n",
       "      <th>facts</th>\n",
       "      <th>fact_length</th>\n",
       "      <th>majority_vote</th>\n",
       "      <th>minority_vote</th>\n",
       "      <th>first_party winner</th>\n",
       "      <th>decision_type</th>\n",
       "      <th>disposition</th>\n",
       "      <th>issue areas</th>\n",
       "      <th>type of crime</th>\n",
       "      <th>offence_section</th>\n",
       "      <th>punishment_section</th>\n",
       "      <th>Unnamed: 15</th>\n",
       "      <th>Unnamed: 16</th>\n",
       "    </tr>\n",
       "  </thead>\n",
       "  <tbody>\n",
       "    <tr>\n",
       "      <th>0</th>\n",
       "      <td>Usman v The State</td>\n",
       "      <td>2008</td>\n",
       "      <td>Usman</td>\n",
       "      <td>The State</td>\n",
       "      <td>criminal conspiracy, abetment and culpable hom...</td>\n",
       "      <td>769</td>\n",
       "      <td>Guilty</td>\n",
       "      <td>Guilty</td>\n",
       "      <td>False</td>\n",
       "      <td>Bench Trial</td>\n",
       "      <td>convicted</td>\n",
       "      <td>capital offence</td>\n",
       "      <td>murder</td>\n",
       "      <td>316 CriminalCode</td>\n",
       "      <td>319 CriminalCode</td>\n",
       "      <td>NaN</td>\n",
       "      <td>NaN</td>\n",
       "    </tr>\n",
       "    <tr>\n",
       "      <th>1</th>\n",
       "      <td>Maijamaa vs State</td>\n",
       "      <td>1964</td>\n",
       "      <td>Maijamaa</td>\n",
       "      <td>The State</td>\n",
       "      <td>attack on the deceased</td>\n",
       "      <td>450</td>\n",
       "      <td>Guilty</td>\n",
       "      <td>Not Guilty</td>\n",
       "      <td>False</td>\n",
       "      <td>Jury Trial</td>\n",
       "      <td>convicted</td>\n",
       "      <td>capital offence</td>\n",
       "      <td>murder</td>\n",
       "      <td>221(b) PenalCode</td>\n",
       "      <td>79 PenalCode</td>\n",
       "      <td>NaN</td>\n",
       "      <td>NaN</td>\n",
       "    </tr>\n",
       "    <tr>\n",
       "      <th>2</th>\n",
       "      <td>Mbang Efoli Mbang V The State</td>\n",
       "      <td>2009</td>\n",
       "      <td>Mbang Efoli Mbang</td>\n",
       "      <td>The State</td>\n",
       "      <td>ate human flesh</td>\n",
       "      <td>685</td>\n",
       "      <td>Not Guilty</td>\n",
       "      <td>Not Guilty</td>\n",
       "      <td>True</td>\n",
       "      <td>Bench Trial</td>\n",
       "      <td>acquitted</td>\n",
       "      <td>capital offence</td>\n",
       "      <td>murder</td>\n",
       "      <td>316 CriminalCode</td>\n",
       "      <td>319 CriminalCode</td>\n",
       "      <td>NaN</td>\n",
       "      <td>NaN</td>\n",
       "    </tr>\n",
       "    <tr>\n",
       "      <th>3</th>\n",
       "      <td>Ibrahim v State</td>\n",
       "      <td>1994</td>\n",
       "      <td>Ibrahim</td>\n",
       "      <td>The State</td>\n",
       "      <td>armed with offensive weapon</td>\n",
       "      <td>651</td>\n",
       "      <td>Guilty</td>\n",
       "      <td>Guilty</td>\n",
       "      <td>False</td>\n",
       "      <td>Bench Trial</td>\n",
       "      <td>convicted</td>\n",
       "      <td>capital offence</td>\n",
       "      <td>armed robbery</td>\n",
       "      <td>402(2)</td>\n",
       "      <td>402(2)(b)</td>\n",
       "      <td>NaN</td>\n",
       "      <td>NaN</td>\n",
       "    </tr>\n",
       "    <tr>\n",
       "      <th>4</th>\n",
       "      <td>Makanjuola v State</td>\n",
       "      <td>2021</td>\n",
       "      <td>Makanjuola</td>\n",
       "      <td>The State</td>\n",
       "      <td>armed with offensive weapon</td>\n",
       "      <td>402</td>\n",
       "      <td>Guilty</td>\n",
       "      <td>Guilty</td>\n",
       "      <td>False</td>\n",
       "      <td>Bench Trial</td>\n",
       "      <td>convicted</td>\n",
       "      <td>capital offence</td>\n",
       "      <td>armed robbery</td>\n",
       "      <td>402(2)</td>\n",
       "      <td>402(2)(b)</td>\n",
       "      <td>NaN</td>\n",
       "      <td>NaN</td>\n",
       "    </tr>\n",
       "  </tbody>\n",
       "</table>\n",
       "</div>"
      ],
      "text/plain": [
       "              Name(both parties)  term(year of case)        first_party  \\\n",
       "0              Usman v The State                2008             Usman    \n",
       "1              Maijamaa vs State                1964           Maijamaa   \n",
       "2  Mbang Efoli Mbang V The State                2009  Mbang Efoli Mbang   \n",
       "3                Ibrahim v State                1994            Ibrahim   \n",
       "4             Makanjuola v State                2021         Makanjuola   \n",
       "\n",
       "  second_party                                              facts  \\\n",
       "0    The State  criminal conspiracy, abetment and culpable hom...   \n",
       "1    The State                             attack on the deceased   \n",
       "2    The State                                    ate human flesh   \n",
       "3    The State                        armed with offensive weapon   \n",
       "4    The State                        armed with offensive weapon   \n",
       "\n",
       "   fact_length majority_vote minority_vote  first_party winner decision_type  \\\n",
       "0          769        Guilty        Guilty               False   Bench Trial   \n",
       "1          450        Guilty    Not Guilty               False    Jury Trial   \n",
       "2          685    Not Guilty    Not Guilty                True   Bench Trial   \n",
       "3          651        Guilty        Guilty               False   Bench Trial   \n",
       "4          402        Guilty        Guilty               False   Bench Trial   \n",
       "\n",
       "  disposition      issue areas  type of crime   offence_section  \\\n",
       "0   convicted  capital offence         murder  316 CriminalCode   \n",
       "1   convicted  capital offence         murder  221(b) PenalCode   \n",
       "2   acquitted  capital offence         murder  316 CriminalCode   \n",
       "3   convicted  capital offence  armed robbery            402(2)   \n",
       "4   convicted  capital offence  armed robbery            402(2)   \n",
       "\n",
       "  punishment_section Unnamed: 15 Unnamed: 16  \n",
       "0   319 CriminalCode         NaN         NaN  \n",
       "1       79 PenalCode         NaN         NaN  \n",
       "2   319 CriminalCode         NaN         NaN  \n",
       "3          402(2)(b)         NaN         NaN  \n",
       "4          402(2)(b)         NaN         NaN  "
      ]
     },
     "execution_count": 78,
     "metadata": {},
     "output_type": "execute_result"
    }
   ],
   "source": [
    "workbook = pd.ExcelFile('Offenses_data.xlsx')\n",
    "d = dict()\n",
    "for sheet in workbook.sheet_names:\n",
    "    df = workbook.parse(sheet)\n",
    "    d[sheet] = df\n",
    "df.head()"
   ]
  },
  {
   "cell_type": "code",
   "execution_count": 79,
   "id": "27498db6",
   "metadata": {},
   "outputs": [
    {
     "data": {
      "text/plain": [
       "(1006, 17)"
      ]
     },
     "execution_count": 79,
     "metadata": {},
     "output_type": "execute_result"
    }
   ],
   "source": [
    "df.shape"
   ]
  },
  {
   "cell_type": "code",
   "execution_count": 80,
   "id": "8a4361ce",
   "metadata": {},
   "outputs": [
    {
     "data": {
      "text/html": [
       "<div>\n",
       "<style scoped>\n",
       "    .dataframe tbody tr th:only-of-type {\n",
       "        vertical-align: middle;\n",
       "    }\n",
       "\n",
       "    .dataframe tbody tr th {\n",
       "        vertical-align: top;\n",
       "    }\n",
       "\n",
       "    .dataframe thead th {\n",
       "        text-align: right;\n",
       "    }\n",
       "</style>\n",
       "<table border=\"1\" class=\"dataframe\">\n",
       "  <thead>\n",
       "    <tr style=\"text-align: right;\">\n",
       "      <th></th>\n",
       "      <th>term(year of case)</th>\n",
       "      <th>fact_length</th>\n",
       "    </tr>\n",
       "  </thead>\n",
       "  <tbody>\n",
       "    <tr>\n",
       "      <th>count</th>\n",
       "      <td>1006.000000</td>\n",
       "      <td>1006.000000</td>\n",
       "    </tr>\n",
       "    <tr>\n",
       "      <th>mean</th>\n",
       "      <td>2008.133201</td>\n",
       "      <td>1315.297217</td>\n",
       "    </tr>\n",
       "    <tr>\n",
       "      <th>std</th>\n",
       "      <td>8.923007</td>\n",
       "      <td>269.351682</td>\n",
       "    </tr>\n",
       "    <tr>\n",
       "      <th>min</th>\n",
       "      <td>1964.000000</td>\n",
       "      <td>402.000000</td>\n",
       "    </tr>\n",
       "    <tr>\n",
       "      <th>25%</th>\n",
       "      <td>2003.000000</td>\n",
       "      <td>1100.000000</td>\n",
       "    </tr>\n",
       "    <tr>\n",
       "      <th>50%</th>\n",
       "      <td>2010.000000</td>\n",
       "      <td>1300.000000</td>\n",
       "    </tr>\n",
       "    <tr>\n",
       "      <th>75%</th>\n",
       "      <td>2015.000000</td>\n",
       "      <td>1500.000000</td>\n",
       "    </tr>\n",
       "    <tr>\n",
       "      <th>max</th>\n",
       "      <td>2021.000000</td>\n",
       "      <td>1800.000000</td>\n",
       "    </tr>\n",
       "  </tbody>\n",
       "</table>\n",
       "</div>"
      ],
      "text/plain": [
       "       term(year of case)  fact_length\n",
       "count         1006.000000  1006.000000\n",
       "mean          2008.133201  1315.297217\n",
       "std              8.923007   269.351682\n",
       "min           1964.000000   402.000000\n",
       "25%           2003.000000  1100.000000\n",
       "50%           2010.000000  1300.000000\n",
       "75%           2015.000000  1500.000000\n",
       "max           2021.000000  1800.000000"
      ]
     },
     "execution_count": 80,
     "metadata": {},
     "output_type": "execute_result"
    }
   ],
   "source": [
    "df.describe()"
   ]
  },
  {
   "cell_type": "code",
   "execution_count": 81,
   "id": "180c0d6a",
   "metadata": {},
   "outputs": [
    {
     "data": {
      "text/plain": [
       "Name(both parties)      0\n",
       "term(year of case)      0\n",
       "first_party             0\n",
       "second_party            0\n",
       "facts                   1\n",
       "fact_length             0\n",
       "majority_vote           0\n",
       "minority_vote           0\n",
       "first_party winner      0\n",
       "decision_type           0\n",
       "disposition             0\n",
       "issue areas             0\n",
       "type of crime           0\n",
       "offence_section        27\n",
       "punishment_section     27\n",
       "Unnamed: 15           953\n",
       "Unnamed: 16           953\n",
       "dtype: int64"
      ]
     },
     "execution_count": 81,
     "metadata": {},
     "output_type": "execute_result"
    }
   ],
   "source": [
    "df.isnull().sum()"
   ]
  },
  {
   "cell_type": "code",
   "execution_count": 82,
   "id": "217b7272",
   "metadata": {},
   "outputs": [
    {
     "data": {
      "text/plain": [
       "Name(both parties)    object\n",
       "term(year of case)     int64\n",
       "first_party           object\n",
       "second_party          object\n",
       "facts                 object\n",
       "fact_length            int64\n",
       "majority_vote         object\n",
       "minority_vote         object\n",
       "first_party winner      bool\n",
       "decision_type         object\n",
       "disposition           object\n",
       "issue areas           object\n",
       "type of crime         object\n",
       "offence_section       object\n",
       "punishment_section    object\n",
       "Unnamed: 15           object\n",
       "Unnamed: 16           object\n",
       "dtype: object"
      ]
     },
     "execution_count": 82,
     "metadata": {},
     "output_type": "execute_result"
    }
   ],
   "source": [
    "df.dtypes"
   ]
  },
  {
   "cell_type": "code",
   "execution_count": 83,
   "id": "eef0eeb9",
   "metadata": {},
   "outputs": [
    {
     "data": {
      "text/html": [
       "<div>\n",
       "<style scoped>\n",
       "    .dataframe tbody tr th:only-of-type {\n",
       "        vertical-align: middle;\n",
       "    }\n",
       "\n",
       "    .dataframe tbody tr th {\n",
       "        vertical-align: top;\n",
       "    }\n",
       "\n",
       "    .dataframe thead th {\n",
       "        text-align: right;\n",
       "    }\n",
       "</style>\n",
       "<table border=\"1\" class=\"dataframe\">\n",
       "  <thead>\n",
       "    <tr style=\"text-align: right;\">\n",
       "      <th></th>\n",
       "      <th>Name(both parties)</th>\n",
       "      <th>term(year of case)</th>\n",
       "      <th>first_party</th>\n",
       "      <th>second_party</th>\n",
       "      <th>facts</th>\n",
       "      <th>fact_length</th>\n",
       "      <th>majority_vote</th>\n",
       "      <th>minority_vote</th>\n",
       "      <th>first_party winner</th>\n",
       "      <th>decision_type</th>\n",
       "      <th>disposition</th>\n",
       "      <th>issue areas</th>\n",
       "      <th>type of crime</th>\n",
       "      <th>offence_section</th>\n",
       "      <th>punishment_section</th>\n",
       "    </tr>\n",
       "  </thead>\n",
       "  <tbody>\n",
       "    <tr>\n",
       "      <th>223</th>\n",
       "      <td>State v. Udeh</td>\n",
       "      <td>2006</td>\n",
       "      <td>State of Nigeria</td>\n",
       "      <td>Chinwe Udeh</td>\n",
       "      <td>Kidnapping: Abduction of a foreign diplomat</td>\n",
       "      <td>1700</td>\n",
       "      <td>Not Guilty</td>\n",
       "      <td>Guilty</td>\n",
       "      <td>False</td>\n",
       "      <td>Bench Trial</td>\n",
       "      <td>acquitted</td>\n",
       "      <td>capital offence</td>\n",
       "      <td>kidnapping</td>\n",
       "      <td>364 CriminalCode</td>\n",
       "      <td>364 CriminalCode</td>\n",
       "    </tr>\n",
       "    <tr>\n",
       "      <th>154</th>\n",
       "      <td>State v. Onwuka</td>\n",
       "      <td>2001</td>\n",
       "      <td>State of Nigeria</td>\n",
       "      <td>Chioma Onwuka</td>\n",
       "      <td>Treachery: Betraying confidential corporate in...</td>\n",
       "      <td>1200</td>\n",
       "      <td>Guilty</td>\n",
       "      <td>Guilty</td>\n",
       "      <td>True</td>\n",
       "      <td>Bench Trial</td>\n",
       "      <td>sentenced</td>\n",
       "      <td>capital offence</td>\n",
       "      <td>espionage</td>\n",
       "      <td>37 CriminalCode</td>\n",
       "      <td>37 CriminalCode</td>\n",
       "    </tr>\n",
       "    <tr>\n",
       "      <th>608</th>\n",
       "      <td>State v. Adeleke</td>\n",
       "      <td>2011</td>\n",
       "      <td>State of Nigeria</td>\n",
       "      <td>Adesuwa Adeleke</td>\n",
       "      <td>Kidnapping: Abduction of a high-profile indivi...</td>\n",
       "      <td>1400</td>\n",
       "      <td>Not Guilty</td>\n",
       "      <td>Guilty</td>\n",
       "      <td>False</td>\n",
       "      <td>Jury Trial</td>\n",
       "      <td>acquitted</td>\n",
       "      <td>capital offence</td>\n",
       "      <td>kidnapping</td>\n",
       "      <td>364 CriminalCode</td>\n",
       "      <td>364 CriminalCode</td>\n",
       "    </tr>\n",
       "    <tr>\n",
       "      <th>977</th>\n",
       "      <td>Okunde Kolawole v The State</td>\n",
       "      <td>2017</td>\n",
       "      <td>kolawole</td>\n",
       "      <td>The State</td>\n",
       "      <td>two count charge of conspiracy to commit armed...</td>\n",
       "      <td>1000</td>\n",
       "      <td>Guilty</td>\n",
       "      <td>Guilty</td>\n",
       "      <td>False</td>\n",
       "      <td>Bench Trial</td>\n",
       "      <td>convicted</td>\n",
       "      <td>capital offence</td>\n",
       "      <td>armed robbery</td>\n",
       "      <td>1(2)(a) Robbery and Firearms Act</td>\n",
       "      <td>1(2)(a) Robbery and Firearms Act</td>\n",
       "    </tr>\n",
       "    <tr>\n",
       "      <th>459</th>\n",
       "      <td>Edwin Ezigbo v The State</td>\n",
       "      <td>2012</td>\n",
       "      <td>Edwin Ezigbo</td>\n",
       "      <td>The State</td>\n",
       "      <td>offence of rape</td>\n",
       "      <td>1210</td>\n",
       "      <td>Guilty</td>\n",
       "      <td>Guilty</td>\n",
       "      <td>False</td>\n",
       "      <td>Bench Trial</td>\n",
       "      <td>convicted</td>\n",
       "      <td>capital offence</td>\n",
       "      <td>rape</td>\n",
       "      <td>282(1) PenalCode</td>\n",
       "      <td>282(1) PenalCode</td>\n",
       "    </tr>\n",
       "  </tbody>\n",
       "</table>\n",
       "</div>"
      ],
      "text/plain": [
       "              Name(both parties)  term(year of case)       first_party  \\\n",
       "223                State v. Udeh                2006  State of Nigeria   \n",
       "154              State v. Onwuka                2001  State of Nigeria   \n",
       "608             State v. Adeleke                2011  State of Nigeria   \n",
       "977  Okunde Kolawole v The State                2017          kolawole   \n",
       "459     Edwin Ezigbo v The State                2012      Edwin Ezigbo   \n",
       "\n",
       "        second_party                                              facts  \\\n",
       "223      Chinwe Udeh        Kidnapping: Abduction of a foreign diplomat   \n",
       "154    Chioma Onwuka  Treachery: Betraying confidential corporate in...   \n",
       "608  Adesuwa Adeleke  Kidnapping: Abduction of a high-profile indivi...   \n",
       "977        The State  two count charge of conspiracy to commit armed...   \n",
       "459        The State                                    offence of rape   \n",
       "\n",
       "     fact_length majority_vote minority_vote  first_party winner  \\\n",
       "223         1700    Not Guilty        Guilty               False   \n",
       "154         1200        Guilty        Guilty                True   \n",
       "608         1400    Not Guilty        Guilty               False   \n",
       "977         1000        Guilty        Guilty               False   \n",
       "459         1210        Guilty        Guilty               False   \n",
       "\n",
       "    decision_type disposition      issue areas  type of crime  \\\n",
       "223   Bench Trial   acquitted  capital offence     kidnapping   \n",
       "154   Bench Trial   sentenced  capital offence      espionage   \n",
       "608    Jury Trial   acquitted  capital offence     kidnapping   \n",
       "977   Bench Trial   convicted  capital offence  armed robbery   \n",
       "459   Bench Trial   convicted  capital offence           rape   \n",
       "\n",
       "                      offence_section                punishment_section  \n",
       "223                  364 CriminalCode                  364 CriminalCode  \n",
       "154                   37 CriminalCode                   37 CriminalCode  \n",
       "608                  364 CriminalCode                  364 CriminalCode  \n",
       "977  1(2)(a) Robbery and Firearms Act  1(2)(a) Robbery and Firearms Act  \n",
       "459                  282(1) PenalCode                  282(1) PenalCode  "
      ]
     },
     "execution_count": 83,
     "metadata": {},
     "output_type": "execute_result"
    }
   ],
   "source": [
    "df.drop(['Unnamed: 15', 'Unnamed: 16'], axis='columns', inplace=True)\n",
    "df.sample(5)"
   ]
  },
  {
   "cell_type": "code",
   "execution_count": 84,
   "id": "e8ae8ea6",
   "metadata": {},
   "outputs": [],
   "source": [
    "df['first_party winner'] = df['first_party winner'].astype(int)"
   ]
  },
  {
   "cell_type": "code",
   "execution_count": 85,
   "id": "cc0d2b0d",
   "metadata": {},
   "outputs": [
    {
     "data": {
      "text/html": [
       "<div>\n",
       "<style scoped>\n",
       "    .dataframe tbody tr th:only-of-type {\n",
       "        vertical-align: middle;\n",
       "    }\n",
       "\n",
       "    .dataframe tbody tr th {\n",
       "        vertical-align: top;\n",
       "    }\n",
       "\n",
       "    .dataframe thead th {\n",
       "        text-align: right;\n",
       "    }\n",
       "</style>\n",
       "<table border=\"1\" class=\"dataframe\">\n",
       "  <thead>\n",
       "    <tr style=\"text-align: right;\">\n",
       "      <th></th>\n",
       "      <th>decision_type</th>\n",
       "      <th>disposition</th>\n",
       "      <th>type of crime</th>\n",
       "      <th>majority_vote</th>\n",
       "      <th>minority_vote</th>\n",
       "      <th>first_party winner</th>\n",
       "    </tr>\n",
       "  </thead>\n",
       "  <tbody>\n",
       "    <tr>\n",
       "      <th>0</th>\n",
       "      <td>Bench Trial</td>\n",
       "      <td>convicted</td>\n",
       "      <td>murder</td>\n",
       "      <td>Guilty</td>\n",
       "      <td>Guilty</td>\n",
       "      <td>0</td>\n",
       "    </tr>\n",
       "    <tr>\n",
       "      <th>1</th>\n",
       "      <td>Jury Trial</td>\n",
       "      <td>convicted</td>\n",
       "      <td>murder</td>\n",
       "      <td>Guilty</td>\n",
       "      <td>Not Guilty</td>\n",
       "      <td>0</td>\n",
       "    </tr>\n",
       "    <tr>\n",
       "      <th>2</th>\n",
       "      <td>Bench Trial</td>\n",
       "      <td>acquitted</td>\n",
       "      <td>murder</td>\n",
       "      <td>Not Guilty</td>\n",
       "      <td>Not Guilty</td>\n",
       "      <td>1</td>\n",
       "    </tr>\n",
       "    <tr>\n",
       "      <th>3</th>\n",
       "      <td>Bench Trial</td>\n",
       "      <td>convicted</td>\n",
       "      <td>armed robbery</td>\n",
       "      <td>Guilty</td>\n",
       "      <td>Guilty</td>\n",
       "      <td>0</td>\n",
       "    </tr>\n",
       "    <tr>\n",
       "      <th>4</th>\n",
       "      <td>Bench Trial</td>\n",
       "      <td>convicted</td>\n",
       "      <td>armed robbery</td>\n",
       "      <td>Guilty</td>\n",
       "      <td>Guilty</td>\n",
       "      <td>0</td>\n",
       "    </tr>\n",
       "  </tbody>\n",
       "</table>\n",
       "</div>"
      ],
      "text/plain": [
       "  decision_type disposition  type of crime majority_vote minority_vote  \\\n",
       "0   Bench Trial   convicted         murder        Guilty        Guilty   \n",
       "1    Jury Trial   convicted         murder        Guilty    Not Guilty   \n",
       "2   Bench Trial   acquitted         murder    Not Guilty    Not Guilty   \n",
       "3   Bench Trial   convicted  armed robbery        Guilty        Guilty   \n",
       "4   Bench Trial   convicted  armed robbery        Guilty        Guilty   \n",
       "\n",
       "   first_party winner  \n",
       "0                   0  \n",
       "1                   0  \n",
       "2                   1  \n",
       "3                   0  \n",
       "4                   0  "
      ]
     },
     "execution_count": 85,
     "metadata": {},
     "output_type": "execute_result"
    }
   ],
   "source": [
    "df1 = df[['decision_type','disposition','type of crime','majority_vote','minority_vote','first_party winner']]\n",
    "df1.head()"
   ]
  },
  {
   "cell_type": "code",
   "execution_count": 86,
   "id": "12453c0e",
   "metadata": {
    "scrolled": true
   },
   "outputs": [
    {
     "data": {
      "text/plain": [
       "decision_type         0\n",
       "disposition           0\n",
       "type of crime         0\n",
       "majority_vote         0\n",
       "minority_vote         0\n",
       "first_party winner    0\n",
       "dtype: int64"
      ]
     },
     "execution_count": 86,
     "metadata": {},
     "output_type": "execute_result"
    }
   ],
   "source": [
    "df1.isnull().sum()"
   ]
  },
  {
   "cell_type": "code",
   "execution_count": 87,
   "id": "c6afd3c3",
   "metadata": {},
   "outputs": [
    {
     "data": {
      "text/plain": [
       "array(['Bench Trial', 'Jury Trial'], dtype=object)"
      ]
     },
     "execution_count": 87,
     "metadata": {},
     "output_type": "execute_result"
    }
   ],
   "source": [
    "df1['decision_type'].unique()"
   ]
  },
  {
   "cell_type": "code",
   "execution_count": 88,
   "id": "b9ba0ea2",
   "metadata": {},
   "outputs": [
    {
     "data": {
      "text/plain": [
       "array(['convicted', 'acquitted', 'appeal allowed but conviction',\n",
       "       'sentenced', 'setenced '], dtype=object)"
      ]
     },
     "execution_count": 88,
     "metadata": {},
     "output_type": "execute_result"
    }
   ],
   "source": [
    "df1['disposition'].unique()"
   ]
  },
  {
   "cell_type": "code",
   "execution_count": 89,
   "id": "f3b4d8cd",
   "metadata": {},
   "outputs": [],
   "source": [
    "df1 = df1[df1.disposition.values != 'setenced ']"
   ]
  },
  {
   "cell_type": "code",
   "execution_count": 90,
   "id": "fb4e6411",
   "metadata": {},
   "outputs": [
    {
     "data": {
      "text/plain": [
       "array(['convicted', 'acquitted', 'appeal allowed but conviction',\n",
       "       'sentenced'], dtype=object)"
      ]
     },
     "execution_count": 90,
     "metadata": {},
     "output_type": "execute_result"
    }
   ],
   "source": [
    "df1['disposition'].unique()"
   ]
  },
  {
   "cell_type": "code",
   "execution_count": 91,
   "id": "e0bbdad7",
   "metadata": {},
   "outputs": [
    {
     "data": {
      "text/plain": [
       "array([0, 1])"
      ]
     },
     "execution_count": 91,
     "metadata": {},
     "output_type": "execute_result"
    }
   ],
   "source": [
    "df1['first_party winner'].unique()"
   ]
  },
  {
   "cell_type": "code",
   "execution_count": 92,
   "id": "c1953ea1",
   "metadata": {},
   "outputs": [
    {
     "data": {
      "text/plain": [
       "array(['murder', 'armed robbery', 'treason', 'rape', 'manslaughter',\n",
       "       'homicide', 'robbery', 'kidnapping', 'espionage'], dtype=object)"
      ]
     },
     "execution_count": 92,
     "metadata": {},
     "output_type": "execute_result"
    }
   ],
   "source": [
    "df1['type of crime'].unique()"
   ]
  },
  {
   "cell_type": "code",
   "execution_count": 216,
   "id": "d3ed63d7",
   "metadata": {},
   "outputs": [
    {
     "data": {
      "text/plain": [
       "disposition\n",
       "acquitted                        253\n",
       "appeal allowed but conviction      7\n",
       "convicted                        277\n",
       "sentenced                        461\n",
       "Name: type of crime, dtype: int64"
      ]
     },
     "execution_count": 216,
     "metadata": {},
     "output_type": "execute_result"
    }
   ],
   "source": [
    "df2 = df1.groupby('disposition')['type of crime'].agg('count')\n",
    "df2"
   ]
  },
  {
   "cell_type": "code",
   "execution_count": 94,
   "id": "bcedf8e7",
   "metadata": {},
   "outputs": [
    {
     "data": {
      "text/plain": [
       "<Axes: title={'center': 'crime cases'}, xlabel='disposition', ylabel='number of deposition'>"
      ]
     },
     "execution_count": 94,
     "metadata": {},
     "output_type": "execute_result"
    },
    {
     "data": {
      "image/png": "[encoded data removed]",
      "text/plain": [
       "<Figure size 640x480 with 1 Axes>"
      ]
     },
     "metadata": {},
     "output_type": "display_data"
    }
   ],
   "source": [
    "df2.plot(kind='bar',\n",
    "         xlabel='disposition',\n",
    "         ylabel='number of deposition',\n",
    "         title='crime cases',\n",
    "        )\n"
   ]
  },
  {
   "cell_type": "code",
   "execution_count": 95,
   "id": "cab1ce3c",
   "metadata": {},
   "outputs": [
    {
     "data": {
      "text/plain": [
       "<Axes: >"
      ]
     },
     "execution_count": 95,
     "metadata": {},
     "output_type": "execute_result"
    },
    {
     "data": {
      "image/png": "[encoded data removed]",
      "text/plain": [
       "<Figure size 1500x1000 with 2 Axes>"
      ]
     },
     "metadata": {},
     "output_type": "display_data"
    }
   ],
   "source": [
    "import seaborn as sns\n",
    "corr = df1.corr()\n",
    "plt.figure(figsize=(15,10))\n",
    "sns.heatmap(corr,annot=True,cmap='BuPu')"
   ]
  },
  {
   "cell_type": "code",
   "execution_count": 111,
   "id": "3df0953a",
   "metadata": {},
   "outputs": [],
   "source": [
    "col = ['decision_type','type of crime','majority_vote','minority_vote','first_party winner']\n",
    "df3 = pd.get_dummies(data=df1, columns=col, drop_first=True)"
   ]
  },
  {
   "cell_type": "code",
   "execution_count": 130,
   "id": "5ddd6aa0",
   "metadata": {},
   "outputs": [],
   "source": [
    "from sklearn.preprocessing import LabelEncoder\n",
    "label_encoder = LabelEncoder()\n",
    "df3['disposition'] = label_encoder.fit_transform(df3['disposition'])"
   ]
  },
  {
   "cell_type": "code",
   "execution_count": 131,
   "id": "c807418a",
   "metadata": {},
   "outputs": [
    {
     "data": {
      "text/html": [
       "<div>\n",
       "<style scoped>\n",
       "    .dataframe tbody tr th:only-of-type {\n",
       "        vertical-align: middle;\n",
       "    }\n",
       "\n",
       "    .dataframe tbody tr th {\n",
       "        vertical-align: top;\n",
       "    }\n",
       "\n",
       "    .dataframe thead th {\n",
       "        text-align: right;\n",
       "    }\n",
       "</style>\n",
       "<table border=\"1\" class=\"dataframe\">\n",
       "  <thead>\n",
       "    <tr style=\"text-align: right;\">\n",
       "      <th></th>\n",
       "      <th>disposition</th>\n",
       "      <th>decision_type_Jury Trial</th>\n",
       "      <th>type of crime_espionage</th>\n",
       "      <th>type of crime_homicide</th>\n",
       "      <th>type of crime_kidnapping</th>\n",
       "      <th>type of crime_manslaughter</th>\n",
       "      <th>type of crime_murder</th>\n",
       "      <th>type of crime_rape</th>\n",
       "      <th>type of crime_robbery</th>\n",
       "      <th>type of crime_treason</th>\n",
       "      <th>majority_vote_Not Guilty</th>\n",
       "      <th>minority_vote_Not Guilty</th>\n",
       "      <th>first_party winner_1</th>\n",
       "    </tr>\n",
       "  </thead>\n",
       "  <tbody>\n",
       "    <tr>\n",
       "      <th>0</th>\n",
       "      <td>2</td>\n",
       "      <td>0</td>\n",
       "      <td>0</td>\n",
       "      <td>0</td>\n",
       "      <td>0</td>\n",
       "      <td>0</td>\n",
       "      <td>1</td>\n",
       "      <td>0</td>\n",
       "      <td>0</td>\n",
       "      <td>0</td>\n",
       "      <td>0</td>\n",
       "      <td>0</td>\n",
       "      <td>0</td>\n",
       "    </tr>\n",
       "    <tr>\n",
       "      <th>1</th>\n",
       "      <td>2</td>\n",
       "      <td>1</td>\n",
       "      <td>0</td>\n",
       "      <td>0</td>\n",
       "      <td>0</td>\n",
       "      <td>0</td>\n",
       "      <td>1</td>\n",
       "      <td>0</td>\n",
       "      <td>0</td>\n",
       "      <td>0</td>\n",
       "      <td>0</td>\n",
       "      <td>1</td>\n",
       "      <td>0</td>\n",
       "    </tr>\n",
       "    <tr>\n",
       "      <th>2</th>\n",
       "      <td>0</td>\n",
       "      <td>0</td>\n",
       "      <td>0</td>\n",
       "      <td>0</td>\n",
       "      <td>0</td>\n",
       "      <td>0</td>\n",
       "      <td>1</td>\n",
       "      <td>0</td>\n",
       "      <td>0</td>\n",
       "      <td>0</td>\n",
       "      <td>1</td>\n",
       "      <td>1</td>\n",
       "      <td>1</td>\n",
       "    </tr>\n",
       "    <tr>\n",
       "      <th>3</th>\n",
       "      <td>2</td>\n",
       "      <td>0</td>\n",
       "      <td>0</td>\n",
       "      <td>0</td>\n",
       "      <td>0</td>\n",
       "      <td>0</td>\n",
       "      <td>0</td>\n",
       "      <td>0</td>\n",
       "      <td>0</td>\n",
       "      <td>0</td>\n",
       "      <td>0</td>\n",
       "      <td>0</td>\n",
       "      <td>0</td>\n",
       "    </tr>\n",
       "    <tr>\n",
       "      <th>4</th>\n",
       "      <td>2</td>\n",
       "      <td>0</td>\n",
       "      <td>0</td>\n",
       "      <td>0</td>\n",
       "      <td>0</td>\n",
       "      <td>0</td>\n",
       "      <td>0</td>\n",
       "      <td>0</td>\n",
       "      <td>0</td>\n",
       "      <td>0</td>\n",
       "      <td>0</td>\n",
       "      <td>0</td>\n",
       "      <td>0</td>\n",
       "    </tr>\n",
       "  </tbody>\n",
       "</table>\n",
       "</div>"
      ],
      "text/plain": [
       "   disposition  decision_type_Jury Trial  type of crime_espionage  \\\n",
       "0            2                         0                        0   \n",
       "1            2                         1                        0   \n",
       "2            0                         0                        0   \n",
       "3            2                         0                        0   \n",
       "4            2                         0                        0   \n",
       "\n",
       "   type of crime_homicide  type of crime_kidnapping  \\\n",
       "0                       0                         0   \n",
       "1                       0                         0   \n",
       "2                       0                         0   \n",
       "3                       0                         0   \n",
       "4                       0                         0   \n",
       "\n",
       "   type of crime_manslaughter  type of crime_murder  type of crime_rape  \\\n",
       "0                           0                     1                   0   \n",
       "1                           0                     1                   0   \n",
       "2                           0                     1                   0   \n",
       "3                           0                     0                   0   \n",
       "4                           0                     0                   0   \n",
       "\n",
       "   type of crime_robbery  type of crime_treason  majority_vote_Not Guilty  \\\n",
       "0                      0                      0                         0   \n",
       "1                      0                      0                         0   \n",
       "2                      0                      0                         1   \n",
       "3                      0                      0                         0   \n",
       "4                      0                      0                         0   \n",
       "\n",
       "   minority_vote_Not Guilty  first_party winner_1  \n",
       "0                         0                     0  \n",
       "1                         1                     0  \n",
       "2                         1                     1  \n",
       "3                         0                     0  \n",
       "4                         0                     0  "
      ]
     },
     "execution_count": 131,
     "metadata": {},
     "output_type": "execute_result"
    }
   ],
   "source": [
    "df3.head()"
   ]
  },
  {
   "cell_type": "code",
   "execution_count": 132,
   "id": "f13e15af",
   "metadata": {},
   "outputs": [
    {
     "data": {
      "text/plain": [
       "disposition                   int64\n",
       "decision_type_Jury Trial      int64\n",
       "type of crime_espionage       int64\n",
       "type of crime_homicide        int64\n",
       "type of crime_kidnapping      int64\n",
       "type of crime_manslaughter    int64\n",
       "type of crime_murder          int64\n",
       "type of crime_rape            int64\n",
       "type of crime_robbery         int64\n",
       "type of crime_treason         int64\n",
       "majority_vote_Not Guilty      int64\n",
       "minority_vote_Not Guilty      int64\n",
       "first_party winner_1          int64\n",
       "dtype: object"
      ]
     },
     "execution_count": 132,
     "metadata": {},
     "output_type": "execute_result"
    }
   ],
   "source": [
    "df3.dtypes"
   ]
  },
  {
   "cell_type": "code",
   "execution_count": 133,
   "id": "7ee427b0",
   "metadata": {},
   "outputs": [],
   "source": [
    "df3 = df3.astype('int64')"
   ]
  },
  {
   "cell_type": "code",
   "execution_count": 140,
   "id": "e5aafa3d",
   "metadata": {},
   "outputs": [],
   "source": [
    "from sklearn.preprocessing import MinMaxScaler\n",
    "sc = MinMaxScaler(feature_range = (0, 1))\n",
    "disposition_array = np.array(df3['disposition'])\n",
    "disposition_flatted = disposition_array.reshape(-1, 1) \n",
    "df3['disposition'] = sc.fit_transform(disposition_flatted)"
   ]
  },
  {
   "cell_type": "code",
   "execution_count": 141,
   "id": "2d20b87e",
   "metadata": {},
   "outputs": [],
   "source": [
    "x = df3.drop(['disposition'], axis=1)\n",
    "y = df3['disposition']"
   ]
  },
  {
   "cell_type": "code",
   "execution_count": 142,
   "id": "0e06d36f",
   "metadata": {},
   "outputs": [],
   "source": [
    "X_train, X_test, y_train, y_test = train_test_split(x, y, test_size=0.2, random_state=10)"
   ]
  },
  {
   "cell_type": "code",
   "execution_count": 143,
   "id": "f8788b45",
   "metadata": {},
   "outputs": [
    {
     "data": {
      "text/plain": [
       "12"
      ]
     },
     "execution_count": 143,
     "metadata": {},
     "output_type": "execute_result"
    }
   ],
   "source": [
    "len(X_train.columns)"
   ]
  },
  {
   "cell_type": "code",
   "execution_count": 144,
   "id": "c3ea2b54",
   "metadata": {},
   "outputs": [],
   "source": [
    "import os\n",
    "os.environ['TF_CPP_MIN_LOG_LEVEL'] = '2'"
   ]
  },
  {
   "cell_type": "code",
   "execution_count": 146,
   "id": "92c85e8a",
   "metadata": {},
   "outputs": [],
   "source": [
    "import tensorflow as tf\n",
    "from tensorflow.keras.models import Sequential\n",
    "from tensorflow.keras.layers import Dense, Dropout, LSTM"
   ]
  },
  {
   "cell_type": "code",
   "execution_count": 147,
   "id": "02887277",
   "metadata": {},
   "outputs": [],
   "source": [
    "# Initializing RNN\n",
    "model = Sequential()"
   ]
  },
  {
   "cell_type": "code",
   "execution_count": 148,
   "id": "2f3cf7b1",
   "metadata": {},
   "outputs": [
    {
     "data": {
      "text/plain": [
       "(798, 12)"
      ]
     },
     "execution_count": 148,
     "metadata": {},
     "output_type": "execute_result"
    }
   ],
   "source": [
    "X_train.shape"
   ]
  },
  {
   "cell_type": "code",
   "execution_count": 207,
   "id": "34fed330",
   "metadata": {},
   "outputs": [
    {
     "data": {
      "text/plain": [
       "(200,)"
      ]
     },
     "execution_count": 207,
     "metadata": {},
     "output_type": "execute_result"
    }
   ],
   "source": [
    "y_test.shape"
   ]
  },
  {
   "cell_type": "code",
   "execution_count": 149,
   "id": "d258d272",
   "metadata": {},
   "outputs": [],
   "source": [
    "X_train = X_train.values.reshape(798, 12, 1)"
   ]
  },
  {
   "cell_type": "code",
   "execution_count": 151,
   "id": "2b7adab6",
   "metadata": {},
   "outputs": [],
   "source": [
    "# Adding the first LSTM layer\n",
    "model.add(LSTM(units=124, return_sequences=True, input_shape=(X_train.shape[1],1), activation='relu'))\n",
    "model.add(Dropout(0.2))"
   ]
  },
  {
   "cell_type": "code",
   "execution_count": 152,
   "id": "098f704c",
   "metadata": {},
   "outputs": [],
   "source": [
    "# Adding the second LSTM layer\n",
    "model.add(LSTM(units=124, return_sequences=True, activation='relu'))\n",
    "model.add(Dropout(0.2))"
   ]
  },
  {
   "cell_type": "code",
   "execution_count": 153,
   "id": "bab2dcac",
   "metadata": {},
   "outputs": [],
   "source": [
    "# Adding the third LSTM layer\n",
    "model.add(LSTM(units=100, return_sequences=True, activation='relu'))\n",
    "model.add(Dropout(0.2))"
   ]
  },
  {
   "cell_type": "code",
   "execution_count": 154,
   "id": "ab4311da",
   "metadata": {},
   "outputs": [],
   "source": [
    "# Adding the fourth LSTM layer\n",
    "model.add(LSTM(units=80, return_sequences=True, activation='relu'))\n",
    "model.add(Dropout(0.2))"
   ]
  },
  {
   "cell_type": "code",
   "execution_count": 155,
   "id": "e53dc283",
   "metadata": {},
   "outputs": [],
   "source": [
    "# The output layer\n",
    "model.add(Dense(units=1, activation='softmax'))"
   ]
  },
  {
   "cell_type": "code",
   "execution_count": 156,
   "id": "385c24fe",
   "metadata": {},
   "outputs": [],
   "source": [
    "model.compile(optimizer='adam', loss='mean_squared_error', metrics=['accuracy'])"
   ]
  },
  {
   "cell_type": "code",
   "execution_count": 157,
   "id": "4aed7274",
   "metadata": {},
   "outputs": [
    {
     "name": "stdout",
     "output_type": "stream",
     "text": [
      "Epoch 1/100\n",
      "25/25 [==============================] - 30s 382ms/step - loss: 0.2925 - accuracy: 0.4612\n",
      "Epoch 2/100\n",
      "25/25 [==============================] - 8s 327ms/step - loss: 0.2925 - accuracy: 0.4612\n",
      "Epoch 3/100\n",
      "25/25 [==============================] - 9s 344ms/step - loss: 0.2925 - accuracy: 0.4612\n",
      "Epoch 4/100\n",
      "25/25 [==============================] - 9s 349ms/step - loss: 0.2925 - accuracy: 0.4612\n",
      "Epoch 5/100\n",
      "25/25 [==============================] - 8s 310ms/step - loss: 0.2925 - accuracy: 0.4612\n",
      "Epoch 6/100\n",
      "25/25 [==============================] - 8s 324ms/step - loss: 0.2925 - accuracy: 0.4612\n",
      "Epoch 7/100\n",
      "25/25 [==============================] - 8s 321ms/step - loss: 0.2925 - accuracy: 0.4612\n",
      "Epoch 8/100\n",
      "25/25 [==============================] - 8s 313ms/step - loss: 0.2925 - accuracy: 0.4612\n",
      "Epoch 9/100\n",
      "25/25 [==============================] - 8s 324ms/step - loss: 0.2925 - accuracy: 0.4612\n",
      "Epoch 10/100\n",
      "25/25 [==============================] - 8s 323ms/step - loss: 0.2925 - accuracy: 0.4612\n",
      "Epoch 11/100\n",
      "25/25 [==============================] - 8s 317ms/step - loss: 0.2925 - accuracy: 0.4612\n",
      "Epoch 12/100\n",
      "25/25 [==============================] - 8s 308ms/step - loss: 0.2925 - accuracy: 0.4612\n",
      "Epoch 13/100\n",
      "25/25 [==============================] - 8s 331ms/step - loss: 0.2925 - accuracy: 0.4612\n",
      "Epoch 14/100\n",
      "25/25 [==============================] - 8s 316ms/step - loss: 0.2925 - accuracy: 0.4612\n",
      "Epoch 15/100\n",
      "25/25 [==============================] - 8s 310ms/step - loss: 0.2925 - accuracy: 0.4612\n",
      "Epoch 16/100\n",
      "25/25 [==============================] - 8s 317ms/step - loss: 0.2925 - accuracy: 0.4612\n",
      "Epoch 17/100\n",
      "25/25 [==============================] - 8s 307ms/step - loss: 0.2925 - accuracy: 0.4612\n",
      "Epoch 18/100\n",
      "25/25 [==============================] - 9s 339ms/step - loss: 0.2925 - accuracy: 0.4612\n",
      "Epoch 19/100\n",
      "25/25 [==============================] - 9s 346ms/step - loss: 0.2925 - accuracy: 0.4612\n",
      "Epoch 20/100\n",
      "25/25 [==============================] - 9s 340ms/step - loss: 0.2925 - accuracy: 0.4612\n",
      "Epoch 21/100\n",
      "25/25 [==============================] - 9s 356ms/step - loss: 0.2925 - accuracy: 0.4612\n",
      "Epoch 22/100\n",
      "25/25 [==============================] - 9s 338ms/step - loss: 0.2925 - accuracy: 0.4612\n",
      "Epoch 23/100\n",
      "25/25 [==============================] - 9s 344ms/step - loss: 0.2925 - accuracy: 0.4612\n",
      "Epoch 24/100\n",
      "25/25 [==============================] - 9s 338ms/step - loss: 0.2925 - accuracy: 0.4612\n",
      "Epoch 25/100\n",
      "25/25 [==============================] - 9s 348ms/step - loss: 0.2925 - accuracy: 0.4612\n",
      "Epoch 26/100\n",
      "25/25 [==============================] - 9s 360ms/step - loss: 0.2925 - accuracy: 0.4612\n",
      "Epoch 27/100\n",
      "25/25 [==============================] - 8s 318ms/step - loss: 0.2925 - accuracy: 0.4612\n",
      "Epoch 28/100\n",
      "25/25 [==============================] - 8s 329ms/step - loss: 0.2925 - accuracy: 0.4612\n",
      "Epoch 29/100\n",
      "25/25 [==============================] - 8s 337ms/step - loss: 0.2925 - accuracy: 0.4612\n",
      "Epoch 30/100\n",
      "25/25 [==============================] - 8s 322ms/step - loss: 0.2925 - accuracy: 0.4612\n",
      "Epoch 31/100\n",
      "25/25 [==============================] - 8s 329ms/step - loss: 0.2925 - accuracy: 0.4612\n",
      "Epoch 32/100\n",
      "25/25 [==============================] - 9s 339ms/step - loss: 0.2925 - accuracy: 0.4612\n",
      "Epoch 33/100\n",
      "25/25 [==============================] - 9s 360ms/step - loss: 0.2925 - accuracy: 0.4612\n",
      "Epoch 34/100\n",
      "25/25 [==============================] - 8s 330ms/step - loss: 0.2925 - accuracy: 0.4612\n",
      "Epoch 35/100\n",
      "25/25 [==============================] - 9s 359ms/step - loss: 0.2925 - accuracy: 0.4612\n",
      "Epoch 36/100\n",
      "25/25 [==============================] - 8s 327ms/step - loss: 0.2925 - accuracy: 0.4612\n",
      "Epoch 37/100\n",
      "25/25 [==============================] - 9s 345ms/step - loss: 0.2925 - accuracy: 0.4612\n",
      "Epoch 38/100\n",
      "25/25 [==============================] - 9s 348ms/step - loss: 0.2925 - accuracy: 0.4612\n",
      "Epoch 39/100\n",
      "25/25 [==============================] - 10s 389ms/step - loss: 0.2925 - accuracy: 0.4612\n",
      "Epoch 40/100\n",
      "25/25 [==============================] - 9s 344ms/step - loss: 0.2925 - accuracy: 0.4612\n",
      "Epoch 41/100\n",
      "25/25 [==============================] - 8s 303ms/step - loss: 0.2925 - accuracy: 0.4612\n",
      "Epoch 42/100\n",
      "25/25 [==============================] - 7s 295ms/step - loss: 0.2925 - accuracy: 0.4612\n",
      "Epoch 43/100\n",
      "25/25 [==============================] - 8s 306ms/step - loss: 0.2925 - accuracy: 0.4612\n",
      "Epoch 44/100\n",
      "25/25 [==============================] - 8s 301ms/step - loss: 0.2925 - accuracy: 0.4612\n",
      "Epoch 45/100\n",
      "25/25 [==============================] - 9s 371ms/step - loss: 0.2925 - accuracy: 0.4612\n",
      "Epoch 46/100\n",
      "25/25 [==============================] - 12s 469ms/step - loss: 0.2925 - accuracy: 0.4612\n",
      "Epoch 47/100\n",
      "25/25 [==============================] - 14s 551ms/step - loss: 0.2925 - accuracy: 0.4612\n",
      "Epoch 48/100\n",
      "25/25 [==============================] - 9s 341ms/step - loss: 0.2925 - accuracy: 0.4612\n",
      "Epoch 49/100\n",
      "25/25 [==============================] - 8s 311ms/step - loss: 0.2925 - accuracy: 0.4612\n",
      "Epoch 50/100\n",
      "25/25 [==============================] - 10s 376ms/step - loss: 0.2925 - accuracy: 0.4612\n",
      "Epoch 51/100\n",
      "25/25 [==============================] - 11s 417ms/step - loss: 0.2925 - accuracy: 0.4612\n",
      "Epoch 52/100\n",
      "25/25 [==============================] - 13s 510ms/step - loss: 0.2925 - accuracy: 0.4612\n",
      "Epoch 53/100\n",
      "25/25 [==============================] - 12s 470ms/step - loss: 0.2925 - accuracy: 0.4612\n",
      "Epoch 54/100\n",
      "25/25 [==============================] - 13s 515ms/step - loss: 0.2925 - accuracy: 0.4612\n",
      "Epoch 55/100\n",
      "25/25 [==============================] - 13s 520ms/step - loss: 0.2925 - accuracy: 0.4612\n",
      "Epoch 56/100\n",
      "25/25 [==============================] - 12s 483ms/step - loss: 0.2925 - accuracy: 0.4612\n",
      "Epoch 57/100\n",
      "25/25 [==============================] - 12s 467ms/step - loss: 0.2925 - accuracy: 0.4612\n",
      "Epoch 58/100\n",
      "25/25 [==============================] - 11s 424ms/step - loss: 0.2925 - accuracy: 0.4612\n",
      "Epoch 59/100\n",
      "25/25 [==============================] - 10s 393ms/step - loss: 0.2925 - accuracy: 0.4612\n",
      "Epoch 60/100\n",
      "25/25 [==============================] - 10s 402ms/step - loss: 0.2925 - accuracy: 0.4612\n",
      "Epoch 61/100\n",
      "25/25 [==============================] - 9s 344ms/step - loss: 0.2925 - accuracy: 0.4612\n",
      "Epoch 62/100\n",
      "25/25 [==============================] - 9s 367ms/step - loss: 0.2925 - accuracy: 0.4612\n",
      "Epoch 63/100\n",
      "25/25 [==============================] - 8s 329ms/step - loss: 0.2925 - accuracy: 0.4612\n",
      "Epoch 64/100\n",
      "25/25 [==============================] - 8s 332ms/step - loss: 0.2925 - accuracy: 0.4612\n",
      "Epoch 65/100\n",
      "25/25 [==============================] - 9s 362ms/step - loss: 0.2925 - accuracy: 0.4612\n",
      "Epoch 66/100\n",
      "25/25 [==============================] - 10s 382ms/step - loss: 0.2925 - accuracy: 0.4612\n",
      "Epoch 67/100\n",
      "25/25 [==============================] - 9s 331ms/step - loss: 0.2925 - accuracy: 0.4612\n",
      "Epoch 68/100\n",
      "25/25 [==============================] - 9s 344ms/step - loss: 0.2925 - accuracy: 0.4612\n",
      "Epoch 69/100\n",
      "25/25 [==============================] - 9s 338ms/step - loss: 0.2925 - accuracy: 0.4612\n",
      "Epoch 70/100\n",
      "25/25 [==============================] - 9s 342ms/step - loss: 0.2925 - accuracy: 0.4612\n",
      "Epoch 71/100\n",
      "25/25 [==============================] - 10s 406ms/step - loss: 0.2925 - accuracy: 0.4612\n",
      "Epoch 72/100\n",
      "25/25 [==============================] - 9s 366ms/step - loss: 0.2925 - accuracy: 0.4612\n",
      "Epoch 73/100\n",
      "25/25 [==============================] - 8s 334ms/step - loss: 0.2925 - accuracy: 0.4612\n",
      "Epoch 74/100\n",
      "25/25 [==============================] - 8s 335ms/step - loss: 0.2925 - accuracy: 0.4612\n",
      "Epoch 75/100\n",
      "25/25 [==============================] - 8s 338ms/step - loss: 0.2925 - accuracy: 0.4612\n",
      "Epoch 76/100\n",
      "25/25 [==============================] - 10s 399ms/step - loss: 0.2925 - accuracy: 0.4612\n",
      "Epoch 77/100\n",
      "25/25 [==============================] - 8s 335ms/step - loss: 0.2925 - accuracy: 0.4612\n",
      "Epoch 78/100\n",
      "25/25 [==============================] - 9s 339ms/step - loss: 0.2925 - accuracy: 0.4612\n",
      "Epoch 79/100\n",
      "25/25 [==============================] - 8s 329ms/step - loss: 0.2925 - accuracy: 0.4612\n",
      "Epoch 80/100\n",
      "25/25 [==============================] - 9s 340ms/step - loss: 0.2925 - accuracy: 0.4612\n",
      "Epoch 81/100\n"
     ]
    },
    {
     "name": "stdout",
     "output_type": "stream",
     "text": [
      "25/25 [==============================] - 9s 351ms/step - loss: 0.2925 - accuracy: 0.4612\n",
      "Epoch 82/100\n",
      "25/25 [==============================] - 9s 352ms/step - loss: 0.2925 - accuracy: 0.4612\n",
      "Epoch 83/100\n",
      "25/25 [==============================] - 9s 342ms/step - loss: 0.2925 - accuracy: 0.4612\n",
      "Epoch 84/100\n",
      "25/25 [==============================] - 9s 336ms/step - loss: 0.2925 - accuracy: 0.4612\n",
      "Epoch 85/100\n",
      "25/25 [==============================] - 8s 326ms/step - loss: 0.2925 - accuracy: 0.4612\n",
      "Epoch 86/100\n",
      "25/25 [==============================] - 9s 345ms/step - loss: 0.2925 - accuracy: 0.4612\n",
      "Epoch 87/100\n",
      "25/25 [==============================] - 8s 337ms/step - loss: 0.2925 - accuracy: 0.4612\n",
      "Epoch 88/100\n",
      "25/25 [==============================] - 9s 339ms/step - loss: 0.2925 - accuracy: 0.4612\n",
      "Epoch 89/100\n",
      "25/25 [==============================] - 9s 342ms/step - loss: 0.2925 - accuracy: 0.4612\n",
      "Epoch 90/100\n",
      "25/25 [==============================] - 9s 335ms/step - loss: 0.2925 - accuracy: 0.4612\n",
      "Epoch 91/100\n",
      "25/25 [==============================] - 8s 323ms/step - loss: 0.2925 - accuracy: 0.4612\n",
      "Epoch 92/100\n",
      "25/25 [==============================] - 8s 319ms/step - loss: 0.2925 - accuracy: 0.4612\n",
      "Epoch 93/100\n",
      "25/25 [==============================] - 8s 327ms/step - loss: 0.2925 - accuracy: 0.4612\n",
      "Epoch 94/100\n",
      "25/25 [==============================] - 10s 414ms/step - loss: 0.2925 - accuracy: 0.4612\n",
      "Epoch 95/100\n",
      "25/25 [==============================] - 8s 307ms/step - loss: 0.2925 - accuracy: 0.4612\n",
      "Epoch 96/100\n",
      "25/25 [==============================] - 8s 297ms/step - loss: 0.2925 - accuracy: 0.4612\n",
      "Epoch 97/100\n",
      "25/25 [==============================] - 7s 277ms/step - loss: 0.2925 - accuracy: 0.4612\n",
      "Epoch 98/100\n",
      "25/25 [==============================] - 7s 291ms/step - loss: 0.2925 - accuracy: 0.4612\n",
      "Epoch 99/100\n",
      "25/25 [==============================] - 7s 263ms/step - loss: 0.2925 - accuracy: 0.4612\n",
      "Epoch 100/100\n",
      "25/25 [==============================] - 7s 294ms/step - loss: 0.2925 - accuracy: 0.4612\n"
     ]
    },
    {
     "data": {
      "text/plain": [
       "<keras.callbacks.History at 0x7fbaaf56ee50>"
      ]
     },
     "execution_count": 157,
     "metadata": {},
     "output_type": "execute_result"
    }
   ],
   "source": [
    "# Training the dataset\n",
    "model.fit(X_train, y_train, epochs=100, batch_size=32)"
   ]
  },
  {
   "cell_type": "code",
   "execution_count": 158,
   "id": "0c9eea10",
   "metadata": {},
   "outputs": [
    {
     "name": "stdout",
     "output_type": "stream",
     "text": [
      "7/7 [==============================] - 6s 372ms/step - loss: 0.2672 - accuracy: 0.4650\n"
     ]
    },
    {
     "data": {
      "text/plain": [
       "[0.26722219586372375, 0.4650000035762787]"
      ]
     },
     "execution_count": 158,
     "metadata": {},
     "output_type": "execute_result"
    }
   ],
   "source": [
    "# Getting the predicted value\n",
    "model.evaluate(X_test, y_test)"
   ]
  },
  {
   "cell_type": "code",
   "execution_count": 233,
   "id": "cbe384b7",
   "metadata": {},
   "outputs": [
    {
     "name": "stdout",
     "output_type": "stream",
     "text": [
      "7/7 [==============================] - 1s 210ms/step\n"
     ]
    },
    {
     "data": {
      "text/plain": [
       "array([3., 3., 3., 3., 3.])"
      ]
     },
     "execution_count": 233,
     "metadata": {},
     "output_type": "execute_result"
    }
   ],
   "source": [
    "y_pred = model.predict(X_test)*3\n",
    "y_pred = np.array(y_pred[:,1])\n",
    "y_predsize = y_pred.flatten()\n",
    "y_predsize = y_predsize.astype('float64')\n",
    "y_predsize[:5]"
   ]
  },
  {
   "cell_type": "code",
   "execution_count": 234,
   "id": "edbbf5f3",
   "metadata": {},
   "outputs": [
    {
     "data": {
      "text/plain": [
       "663    1.0\n",
       "224    1.0\n",
       "983    1.0\n",
       "252    1.0\n",
       "839    1.0\n",
       "Name: disposition, dtype: float64"
      ]
     },
     "execution_count": 234,
     "metadata": {},
     "output_type": "execute_result"
    }
   ],
   "source": [
    "y_test[:5]"
   ]
  },
  {
   "cell_type": "code",
   "execution_count": 239,
   "id": "d44fb4dc",
   "metadata": {},
   "outputs": [
    {
     "data": {
      "text/plain": [
       "Text(158.08159722222223, 0.5, 'truth')"
      ]
     },
     "execution_count": 239,
     "metadata": {},
     "output_type": "execute_result"
    },
    {
     "data": {
      "image/png": "[encoded data removed]",
      "text/plain": [
       "<Figure size 1500x1000 with 2 Axes>"
      ]
     },
     "metadata": {},
     "output_type": "display_data"
    }
   ],
   "source": [
    "from sklearn.metrics import confusion_matrix\n",
    "cm = tf.math.confusion_matrix(labels=y_test, predictions=y_predsize)\n",
    "plt.figure(figsize=(15,10))\n",
    "sns.heatmap(corr,annot=True,cmap='BuPu')\n",
    "plt.xlabel('predicted')\n",
    "plt.ylabel('truth')"
   ]
  },
  {
   "cell_type": "code",
   "execution_count": null,
   "id": "330260c1",
   "metadata": {},
   "outputs": [],
   "source": []
  }
 ],
 "metadata": {
  "kernelspec": {
   "display_name": "Python 3 (ipykernel)",
   "language": "python",
   "name": "python3"
  },
  "language_info": {
   "codemirror_mode": {
    "name": "ipython",
    "version": 3
   },
   "file_extension": ".py",
   "mimetype": "text/x-python",
   "name": "python",
   "nbconvert_exporter": "python",
   "pygments_lexer": "ipython3",
   "version": "3.11.4"
  }
 },
 "nbformat": 4,
 "nbformat_minor": 5
}
